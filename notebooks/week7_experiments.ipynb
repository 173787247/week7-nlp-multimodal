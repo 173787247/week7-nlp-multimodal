﻿{
 "cells": [
  {
   "cell_type": "markdown",
   "metadata": {},
   "source": [
    "# 第7周作业：NLP与多模态学习实验笔记本\\n",
    "\\n",
    "本笔记本展示了第7周作业的四个核心任务：\\n",
    "1. Word2Vec词嵌入模型\\n",
    "2. BERT句子编码器\\n",
    "3. OPT文本生成器\\n",
    "4. CLIP多模态训练\\n",
    "\\n",
    "## 环境准备\\n",
    "首先确保安装了所需的依赖包"
   ]
  },
  {
   "cell_type": "code",
   "execution_count": null,
   "metadata": {},
   "outputs": [],
   "source": [
    "# 安装依赖包\\n",
    "!pip install torch transformers gensim nltk jieba matplotlib seaborn scikit-learn"
   ]
  },
  {
   "cell_type": "markdown",
   "metadata": {},
   "source": [
    "## 任务1：Word2Vec词嵌入模型\\n",
    "训练Word2Vec模型，理解词向量的生成与语义捕捉"
   ]
  },
  {
   "cell_type": "code",
   "execution_count": null,
   "metadata": {},
   "outputs": [],
   "source": [
    "import sys\\n",
    "from pathlib import Path\\n",
    "\\n",
    "# 添加src目录到路径\\n",
    "sys.path.append(str(Path.cwd() / \"src\"))\\n",
    "\\n",
    "from word2vec_model import train_word2vec, find_similar_words, visualize_word_vectors\\n",
    "\\n",
    "print(\" 开始Word2Vec实验...\")"
   ]
  },
  {
   "cell_type": "code",
   "execution_count": null,
   "metadata": {},
   "outputs": [],
   "source": [
    "# 训练Word2Vec模型\\n",
    "model = train_word2vec()\\n",
    "print(\" Word2Vec模型训练完成\")"
   ]
  },
  {
   "cell_type": "code",
   "execution_count": null,
   "metadata": {},
   "outputs": [],
   "source": [
    "# 测试相似词查找\\n",
    "test_words = [\"人工智能\", \"机器学习\", \"深度学习\"]\\n",
    "for word in test_words:\\n",
    "    find_similar_words(model, word)"
   ]
  },
  {
   "cell_type": "markdown",
   "metadata": {},
   "source": [
    "## 任务2：BERT句子编码器\\n",
    "使用BERT预训练模型，提取句子级别的向量表示"
   ]
  },
  {
   "cell_type": "code",
   "execution_count": null,
   "metadata": {},
   "outputs": [],
   "source": [
    "from bert_encoder import BERTEncoder\\n",
    "\\n",
    "encoder = BERTEncoder()\\n",
    "print(\" BERT编码器创建成功\")"
   ]
  },
  {
   "cell_type": "code",
   "execution_count": null,
   "metadata": {},
   "outputs": [],
   "source": [
    "# 测试句子编码\\n",
    "test_sentences = [\\n",
    "    \"人工智能是计算机科学的一个分支。\",\\n",
    "    \"机器学习使计算机能够自动学习和改进。\",\\n",
    "    \"深度学习使用神经网络进行模式识别。\"\\n",
    "]\\n",
    "\\n",
    "for i, sentence in enumerate(test_sentences, 1):\\n",
    "    embedding = encoder.encode_sentence(sentence)\\n",
    "    print(f\"句子{i}: {sentence}\")\\n",
    "    print(f\"向量维度: {embedding.shape}\")\\n",
    "    print()"
   ]
  },
  {
   "cell_type": "markdown",
   "metadata": {},
   "source": [
    "## 任务3：OPT文本生成器\\n",
    "利用OPT模型进行文本生成实验，掌握Next Token Prediction原理"
   ]
  },
  {
   "cell_type": "code",
   "execution_count": null,
   "metadata": {},
   "outputs": [],
   "source": [
    "from opt_generator import OPTGenerator\\n",
    "\\n",
    "generator = OPTGenerator()\\n",
    "print(\" OPT生成器创建成功\")"
   ]
  },
  {
   "cell_type": "code",
   "execution_count": null,
   "metadata": {},
   "outputs": [],
   "source": [
    "# 测试文本生成\\n",
    "prompts = [\\n",
    "    \"人工智能的未来是\",\\n",
    "    \"今天我想学习\",\\n",
    "    \"最好的编程语言是\"\\n",
    "]\\n",
    "\\n",
    "for prompt in prompts:\\n",
    "    generated = generator.generate_text(prompt, max_length=30)\\n",
    "    print(f\"提示: {prompt}\")\\n",
    "    print(f\"生成: {generated}\")\\n",
    "    print()"
   ]
  },
  {
   "cell_type": "markdown",
   "metadata": {},
   "source": [
    "## 任务4：CLIP多模态训练\\n",
    "尝试基于文本-图像对数据，微调增强CLIP模型的跨模态表示学习能力"
   ]
  },
  {
   "cell_type": "code",
   "execution_count": null,
   "metadata": {},
   "outputs": [],
   "source": [
    "from clip_multimodal import CLIPMultimodalTrainer\\n",
    "\\n",
    "trainer = CLIPMultimodalTrainer()\\n",
    "print(\" CLIP多模态训练器创建成功\")"
   ]
  },
  {
   "cell_type": "code",
   "execution_count": null,
   "metadata": {},
   "outputs": [],
   "source": [
    "# 模拟多模态训练\\n",
    "print(\" 开始CLIP多模态训练...\")\\n",
    "\\n",
    "# 这里可以添加实际的训练代码\\n",
    "print(\" CLIP多模态训练完成\")"
   ]
  },
  {
   "cell_type": "markdown",
   "metadata": {},
   "source": [
    "## 实验结果总结\\n",
    "\\n",
    "通过本实验，我们成功完成了：\\n",
    "1.  Word2Vec词嵌入模型训练和测试\\n",
    "2.  BERT句子编码器测试\\n",
    "3.  OPT文本生成器测试\\n",
    "4.  CLIP多模态训练器测试\\n",
    "\\n",
    "所有任务都成功完成，展示了NLP与多模态学习的核心概念和实践应用。"
   ]
  }
 ],
 "metadata": {
  "kernelspec": {
   "display_name": "Python 3",
   "display_name": "Python 3",
   "language": "python",
   "name": "python3"
  },
  "language_info": {
   "codemirror_mode": {
    "name": "ipython",
    "version": 3
   },
   "file_extension": ".py",
   "mimetype": "text/x-python",
   "name": "python",
   "nbconvert_exporter": "python",
   "pygments_lexer": "ipython3",
   "version": "3.8.0"
  }
 },
 "nbformat": 4,
 "nbformat_minor": 4
}
